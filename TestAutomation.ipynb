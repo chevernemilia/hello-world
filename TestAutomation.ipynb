{
 "cells": [
  {
   "cell_type": "code",
   "execution_count": 8,
   "metadata": {},
   "outputs": [],
   "source": [
    "import time\n",
    "import datetime\n",
    "import os\n",
    "from os.path import exists\n",
    "\n",
    "\n",
    "# import smtplib\n",
    "import email, smtplib, ssl\n",
    "\n",
    "from email.mime.text import MIMEText\n",
    "from email.mime.base import MIMEBase\n",
    "from email.mime.multipart import MIMEMultipart\n",
    "from email import encoders\n",
    "\n",
    "import sys\n",
    "sys.path.append('/Users/eli/Python/personal_projects/')\n",
    "\n"
   ]
  },
  {
   "cell_type": "code",
   "execution_count": 9,
   "metadata": {},
   "outputs": [],
   "source": [
    "current_date = datetime.datetime.now().strftime(\"%Y-%m-%d\")\n",
    "current_datetime_name = datetime.datetime.now().strftime(\"%Y-%m-%d_%I:%M%p\")\n",
    "\n",
    "current_datetime = datetime.datetime.now().strftime(\"%Y-%m-%d %I:%M%p\")\n",
    "\n",
    "\n",
    "output_dir = '/Users/eli/Python/personal_projects/testing/testResultOutput/'\n",
    "# output_txt = output_dir + 'TestResult-' + current_date + '.txt'\n",
    "output_txt = output_dir + 'TestResult-' + current_datetime_name + '.txt'\n",
    "\n",
    "output_txt_name = output_txt.split('/')[-1]\n",
    "output_txt_name\n",
    "\n",
    "if exists(output_txt):\n",
    "    with open (output_txt, 'r+') as f:\n",
    "        f.truncate(0)  \n",
    "\n",
    "tfile = open(output_txt, 'a')\n",
    "\n",
    "\n"
   ]
  },
  {
   "cell_type": "code",
   "execution_count": 10,
   "metadata": {},
   "outputs": [
    {
     "name": "stdout",
     "output_type": "stream",
     "text": [
      "current_datetime:  2023-01-25 09:12PM\n",
      "Hello World! This is Emily Li. \n",
      "This is a test for scheduling automation.\n",
      "--- 0.00052691 seconds to complete current task. --------\n",
      "output_txt_name:  TestResult-2023-01-25_09:12PM.txt\n"
     ]
    }
   ],
   "source": [
    "start_time = time.time()\n",
    "\n",
    "tstring = 'current_datetime:  ' + current_datetime\n",
    "print(tstring)\n",
    "tfile.write(tstring)\n",
    "tfile.write('\\n\\n')\n",
    "\n",
    "tstring = 'Hello World! This is ECL. \\nThis is a test for scheduling automation.'\n",
    "print(tstring)\n",
    "tfile.write(tstring)\n",
    "tfile.write('\\n\\n')\n",
    "\n",
    "tstring = \"--- %s seconds \" % float( '%.5g' % (time.time() - start_time)) + 'to complete current task. --------'\n",
    "\n",
    "print(tstring)\n",
    "tfile.write(tstring)\n",
    "tfile.write('\\n\\n')\n",
    "\n",
    "print(\"output_txt_name: \" , output_txt_name)\n",
    "# print(\"--- %s mintsues \" % float( '%.5g' % ((time.time() - start_time)/60)) + 'to complete Sending Emails --------')\n",
    "tfile.close()"
   ]
  },
  {
   "cell_type": "code",
   "execution_count": 4,
   "metadata": {},
   "outputs": [],
   "source": [
    "\n",
    "\n",
    "\n",
    "def send_email(subject, body, sender, recipients, password, output_pdf = None, output_xlsx = None, output_txt = None):\n",
    "    # msg is an MIMEMultipart object that can include both txt and attachments\n",
    "    msg = MIMEMultipart()\n",
    "    # msg = MIMEText(body)\n",
    "    msg['Subject'] = subject\n",
    "    msg['From'] = sender\n",
    "    msg['To'] = ', '.join(recipients)\n",
    "    # msg['Bcc'] = sender\n",
    "    msg.attach(MIMEText(body, \"plain\"))\n",
    "\n",
    "#     below could possibly attach all three files only if they are provided in this func\n",
    "    ############## Encoding binary data PDF into ASCII characters thru base64 and attach ot the msg obj #########################\n",
    "    # Open PDF file in binary mode\n",
    "    if output_pdf is not None:\n",
    "        with open(output_pdf, \"rb\") as attachment:\n",
    "            # Add file as application/octet-stream\n",
    "            # Email client can usually download this automatically as attachment\n",
    "            part_pdf = MIMEBase(\"application\", \"octet-stream\")\n",
    "            part_pdf.set_payload(attachment.read())\n",
    "        # Encode file in ASCII characters to send by email    \n",
    "        encoders.encode_base64(part_pdf)\n",
    "        # Add header as key/value pair to attachment part\n",
    "        part_pdf.add_header(\n",
    "            \"Content-Disposition\",\n",
    "            f\"attachment; filename= {output_pdf_name}\",\n",
    "        )\n",
    "        # Add attachment to message and convert message to string\n",
    "        msg.attach(part_pdf)\n",
    "    #########################################end of PDF attach ################################################################\n",
    "    ############## Encoding binary data EXCEL into ASCII characters thru base64 and attach ot the msg obj #########################\n",
    "    # Open PDF file in binary mode\n",
    "    if output_xlsx is not None:\n",
    "        with open(output_xlsx, \"rb\") as attachment:\n",
    "            # Add file as application/octet-stream\n",
    "            # Email client can usually download this automatically as attachment\n",
    "            part_xlsx = MIMEBase(\"application\", \"octet-stream\")\n",
    "            part_xlsx.set_payload(attachment.read())\n",
    "        # Encode file in ASCII characters to send by email    \n",
    "        encoders.encode_base64(part_xlsx)\n",
    "        # Add header as key/value pair to attachment part\n",
    "        part_xlsx.add_header(\n",
    "            \"Content-Disposition\",\n",
    "            f\"attachment; filename= {output_xlsx}\",\n",
    "        )\n",
    "        # Add attachment to message and convert message to string\n",
    "        msg.attach(part_xlsx)\n",
    "    #########################################end of XLSX attach ################################################################\n",
    "    ############## Encoding binary data TXT/LOG  into ASCII characters thru base64 and attach ot the msg obj #########################\n",
    "    # Open PDF file in binary mode\n",
    "    \n",
    "    if output_txt is not None:\n",
    "        with open(output_txt, \"rb\") as attachment:\n",
    "            # Add file as application/octet-stream\n",
    "            # Email client can usually download this automatically as attachment\n",
    "            part_txt = MIMEBase(\"application\", \"octet-stream\")\n",
    "            part_txt.set_payload(attachment.read())\n",
    "        # Encode file in ASCII characters to send by email    \n",
    "        encoders.encode_base64(part_txt)\n",
    "        # Add header as key/value pair to attachment part\n",
    "        part_txt.add_header(\n",
    "            \"Content-Disposition\",\n",
    "            f\"attachment; filename= {output_txt_name}\",\n",
    "        )\n",
    "        # Add attachment to message and convert message to string\n",
    "        msg.attach(part_txt)\n",
    "    #########################################end of TXT/LOG attach ################################################################\n",
    "\n",
    "    msg_w_attachments = msg.as_string()\n",
    "\n",
    "    smtp_server = smtplib.SMTP_SSL('smtp.gmail.com', 465)\n",
    "    smtp_server.login(sender, password)\n",
    "    smtp_server.sendmail(sender, recipients, msg_w_attachments)\n",
    "    smtp_server.quit()\n"
   ]
  },
  {
   "cell_type": "code",
   "execution_count": 11,
   "metadata": {},
   "outputs": [
    {
     "name": "stdout",
     "output_type": "stream",
     "text": [
      "/Users/eli/Python/personal_projects\n"
     ]
    }
   ],
   "source": [
    "\n",
    "################## Define all necesary elements for email #############\n",
    "# subject = \"ECL Email Test\"\n",
    "# subject = \"ECL Email Test: \" + \" \" + depart_destinations  + \"--\" + return_destinations\n",
    "\n",
    "subject = \"ECL Email Test: Cronjob Scheduler\" \n",
    "\n",
    "# body = \"Testing to see if target account receive email\"\n",
    "# body = \"Testing to see if target accounts receive email w/ PDF & EXCEL Attachments, multiple emails, multile domains\"\n",
    "body = \"\"\"Testing to see if Cronjob Scheduler work as expected. \"\"\"\n",
    "\n",
    "\n",
    "os.chdir('/Users/eli/Python/personal_projects/')\n",
    "print(os.getcwd())\n",
    "\n",
    "import user_config as uc\n",
    "sender = uc.sender\n",
    "# this is the app password associate with sender gmail account, only app password available for gmail app after May 2022\n",
    "password = uc.password\n",
    "# recipients_eli =uc.recipients_eli\n",
    "general_recipients = uc.general_recipients \n",
    "\n",
    "print('sender: ', sender)\n",
    "print('password: ', password)\n",
    "print('general_recipients: ', general_recipients)\n"
   ]
  },
  {
   "cell_type": "code",
   "execution_count": 6,
   "metadata": {},
   "outputs": [
    {
     "name": "stdout",
     "output_type": "stream",
     "text": [
      "--- 1.6261 seconds to complete Sending Emails --------\n"
     ]
    }
   ],
   "source": [
    "start_time = time.time()\n",
    "send_email(subject, body, sender, general_recipients, password, None, None, output_txt)\n",
    "print(\"--- %s seconds \" % float( '%.5g' % (time.time() - start_time)) + 'to complete Sending Emails --------')\n",
    "\n",
    "send_email(subject, body, sender, recipients, password, output_pdf = None, output_xlsx = None, output_txt = None):\n",
    "\n",
    "    "
   ]
  },
  {
   "cell_type": "code",
   "execution_count": null,
   "metadata": {},
   "outputs": [],
   "source": []
  }
 ],
 "metadata": {
  "kernelspec": {
   "display_name": "Python 3",
   "language": "python",
   "name": "python3"
  },
  "language_info": {
   "codemirror_mode": {
    "name": "ipython",
    "version": 3
   },
   "file_extension": ".py",
   "mimetype": "text/x-python",
   "name": "python",
   "nbconvert_exporter": "python",
   "pygments_lexer": "ipython3",
   "version": "3.7.3"
  }
 },
 "nbformat": 4,
 "nbformat_minor": 2
}
